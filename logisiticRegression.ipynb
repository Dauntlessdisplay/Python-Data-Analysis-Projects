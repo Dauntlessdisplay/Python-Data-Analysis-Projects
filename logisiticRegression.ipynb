{
 "cells": [
  {
   "cell_type": "code",
   "execution_count": 44,
   "id": "59a52287-f690-4155-b270-ccca4f42af52",
   "metadata": {},
   "outputs": [],
   "source": [
    "import pandas as pd \n",
    "import numpy as np \n",
    "import matplotlib.pyplot as plt\n",
    "from sklearn.model_selection import train_test_split\n",
    "from sklearn.linear_model import LogisticRegression"
   ]
  },
  {
   "cell_type": "code",
   "execution_count": 45,
   "id": "9c451493-9707-444e-a381-db049d81639a",
   "metadata": {},
   "outputs": [
    {
     "data": {
      "text/html": [
       "<div>\n",
       "<style scoped>\n",
       "    .dataframe tbody tr th:only-of-type {\n",
       "        vertical-align: middle;\n",
       "    }\n",
       "\n",
       "    .dataframe tbody tr th {\n",
       "        vertical-align: top;\n",
       "    }\n",
       "\n",
       "    .dataframe thead th {\n",
       "        text-align: right;\n",
       "    }\n",
       "</style>\n",
       "<table border=\"1\" class=\"dataframe\">\n",
       "  <thead>\n",
       "    <tr style=\"text-align: right;\">\n",
       "      <th></th>\n",
       "      <th>Player ID</th>\n",
       "      <th>Date Joined</th>\n",
       "      <th>Frequency of Login in a week</th>\n",
       "      <th>Total Playtime (minutes)</th>\n",
       "      <th>Matches Played in  week</th>\n",
       "      <th>Matches Won in a week</th>\n",
       "      <th>Matches Lost in a week</th>\n",
       "      <th>Win Rate (%)</th>\n",
       "      <th>Current Rank</th>\n",
       "      <th>No of Cards Owned</th>\n",
       "      <th>Total Gold Coins Owned</th>\n",
       "      <th>inventory purchase in a week</th>\n",
       "      <th>retention</th>\n",
       "    </tr>\n",
       "  </thead>\n",
       "  <tbody>\n",
       "    <tr>\n",
       "      <th>0</th>\n",
       "      <td>1346.0</td>\n",
       "      <td>2022-04-01</td>\n",
       "      <td>2.0</td>\n",
       "      <td>41.0</td>\n",
       "      <td>4</td>\n",
       "      <td>3.0</td>\n",
       "      <td>1.0</td>\n",
       "      <td>75.000000</td>\n",
       "      <td>53.0</td>\n",
       "      <td>2.0</td>\n",
       "      <td>4.0</td>\n",
       "      <td>3.0</td>\n",
       "      <td>Low</td>\n",
       "    </tr>\n",
       "    <tr>\n",
       "      <th>1</th>\n",
       "      <td>2326.0</td>\n",
       "      <td>2023-10-19</td>\n",
       "      <td>4.0</td>\n",
       "      <td>33.0</td>\n",
       "      <td>4</td>\n",
       "      <td>1.0</td>\n",
       "      <td>3.0</td>\n",
       "      <td>25.000000</td>\n",
       "      <td>138.0</td>\n",
       "      <td>9.0</td>\n",
       "      <td>0.0</td>\n",
       "      <td>3.0</td>\n",
       "      <td>Low</td>\n",
       "    </tr>\n",
       "    <tr>\n",
       "      <th>2</th>\n",
       "      <td>932.0</td>\n",
       "      <td>2022-12-09</td>\n",
       "      <td>4.0</td>\n",
       "      <td>33.0</td>\n",
       "      <td>5</td>\n",
       "      <td>4.0</td>\n",
       "      <td>1.0</td>\n",
       "      <td>80.000000</td>\n",
       "      <td>42.0</td>\n",
       "      <td>2.0</td>\n",
       "      <td>15.0</td>\n",
       "      <td>2.0</td>\n",
       "      <td>Low</td>\n",
       "    </tr>\n",
       "    <tr>\n",
       "      <th>3</th>\n",
       "      <td>845.0</td>\n",
       "      <td>2022-12-05</td>\n",
       "      <td>5.0</td>\n",
       "      <td>50.0</td>\n",
       "      <td>10</td>\n",
       "      <td>1.0</td>\n",
       "      <td>9.0</td>\n",
       "      <td>10.000000</td>\n",
       "      <td>162.0</td>\n",
       "      <td>4.0</td>\n",
       "      <td>17.0</td>\n",
       "      <td>3.0</td>\n",
       "      <td>Low</td>\n",
       "    </tr>\n",
       "    <tr>\n",
       "      <th>4</th>\n",
       "      <td>710.0</td>\n",
       "      <td>2023-10-31</td>\n",
       "      <td>3.0</td>\n",
       "      <td>30.0</td>\n",
       "      <td>7</td>\n",
       "      <td>3.0</td>\n",
       "      <td>4.0</td>\n",
       "      <td>42.857143</td>\n",
       "      <td>111.0</td>\n",
       "      <td>11.0</td>\n",
       "      <td>20.0</td>\n",
       "      <td>2.0</td>\n",
       "      <td>Low</td>\n",
       "    </tr>\n",
       "  </tbody>\n",
       "</table>\n",
       "</div>"
      ],
      "text/plain": [
       "   Player ID Date Joined  Frequency of Login in a week  \\\n",
       "0     1346.0  2022-04-01                           2.0   \n",
       "1     2326.0  2023-10-19                           4.0   \n",
       "2      932.0  2022-12-09                           4.0   \n",
       "3      845.0  2022-12-05                           5.0   \n",
       "4      710.0  2023-10-31                           3.0   \n",
       "\n",
       "   Total Playtime (minutes) Matches Played in  week  Matches Won in a week  \\\n",
       "0                      41.0                       4                    3.0   \n",
       "1                      33.0                       4                    1.0   \n",
       "2                      33.0                       5                    4.0   \n",
       "3                      50.0                      10                    1.0   \n",
       "4                      30.0                       7                    3.0   \n",
       "\n",
       "   Matches Lost in a week  Win Rate (%)  Current Rank  No of Cards Owned  \\\n",
       "0                     1.0     75.000000          53.0                2.0   \n",
       "1                     3.0     25.000000         138.0                9.0   \n",
       "2                     1.0     80.000000          42.0                2.0   \n",
       "3                     9.0     10.000000         162.0                4.0   \n",
       "4                     4.0     42.857143         111.0               11.0   \n",
       "\n",
       "   Total Gold Coins Owned  inventory purchase in a week retention  \n",
       "0                     4.0                           3.0       Low  \n",
       "1                     0.0                           3.0       Low  \n",
       "2                    15.0                           2.0       Low  \n",
       "3                    17.0                           3.0       Low  \n",
       "4                    20.0                           2.0       Low  "
      ]
     },
     "execution_count": 45,
     "metadata": {},
     "output_type": "execute_result"
    }
   ],
   "source": [
    "df = pd.read_excel(r\"C:\\Users\\hp\\Desktop\\player_data.xlsx\")\n",
    "df.head()"
   ]
  },
  {
   "cell_type": "code",
   "execution_count": 46,
   "id": "67c783f5-9ac8-4d40-a680-8234f86919a6",
   "metadata": {},
   "outputs": [
    {
     "data": {
      "text/plain": [
       "Player ID                       4\n",
       "Date Joined                     4\n",
       "Frequency of Login in a week    4\n",
       "Total Playtime (minutes)        4\n",
       "Matches Played in  week         3\n",
       "Matches Won in a week           4\n",
       "Matches Lost in a week          4\n",
       "Win Rate (%)                    4\n",
       "Current Rank                    4\n",
       "No of Cards Owned               4\n",
       "Total Gold Coins Owned          4\n",
       "inventory purchase in a week    4\n",
       "retention                       4\n",
       "dtype: int64"
      ]
     },
     "execution_count": 46,
     "metadata": {},
     "output_type": "execute_result"
    }
   ],
   "source": [
    "df.isnull().sum()"
   ]
  },
  {
   "cell_type": "code",
   "execution_count": 47,
   "id": "edef684c-a1cb-4ecb-b5f6-60f7de2c79fd",
   "metadata": {},
   "outputs": [
    {
     "data": {
      "text/plain": [
       "Player ID                       0\n",
       "Date Joined                     0\n",
       "Frequency of Login in a week    0\n",
       "Total Playtime (minutes)        0\n",
       "Matches Played in  week         0\n",
       "Matches Won in a week           0\n",
       "Matches Lost in a week          0\n",
       "Win Rate (%)                    0\n",
       "Current Rank                    0\n",
       "No of Cards Owned               0\n",
       "Total Gold Coins Owned          0\n",
       "inventory purchase in a week    0\n",
       "retention                       0\n",
       "dtype: int64"
      ]
     },
     "execution_count": 47,
     "metadata": {},
     "output_type": "execute_result"
    }
   ],
   "source": [
    "df = df.dropna()\n",
    "df.isnull().sum()"
   ]
  },
  {
   "cell_type": "code",
   "execution_count": 48,
   "id": "b1938f65-5ef0-4516-8fef-cafd39d1feca",
   "metadata": {},
   "outputs": [
    {
     "data": {
      "text/plain": [
       "array(['Low', 'High'], dtype=object)"
      ]
     },
     "execution_count": 48,
     "metadata": {},
     "output_type": "execute_result"
    }
   ],
   "source": [
    "df['retention'].unique()"
   ]
  },
  {
   "cell_type": "code",
   "execution_count": 49,
   "id": "f6f893ca-7fb7-416d-bdf2-ab93db867a53",
   "metadata": {},
   "outputs": [
    {
     "data": {
      "text/html": [
       "<div>\n",
       "<style scoped>\n",
       "    .dataframe tbody tr th:only-of-type {\n",
       "        vertical-align: middle;\n",
       "    }\n",
       "\n",
       "    .dataframe tbody tr th {\n",
       "        vertical-align: top;\n",
       "    }\n",
       "\n",
       "    .dataframe thead th {\n",
       "        text-align: right;\n",
       "    }\n",
       "</style>\n",
       "<table border=\"1\" class=\"dataframe\">\n",
       "  <thead>\n",
       "    <tr style=\"text-align: right;\">\n",
       "      <th></th>\n",
       "      <th>Player ID</th>\n",
       "      <th>Date Joined</th>\n",
       "      <th>Frequency of Login in a week</th>\n",
       "      <th>Total Playtime (minutes)</th>\n",
       "      <th>Matches Played in  week</th>\n",
       "      <th>Matches Won in a week</th>\n",
       "      <th>Matches Lost in a week</th>\n",
       "      <th>Win Rate (%)</th>\n",
       "      <th>Current Rank</th>\n",
       "      <th>No of Cards Owned</th>\n",
       "      <th>Total Gold Coins Owned</th>\n",
       "      <th>inventory purchase in a week</th>\n",
       "      <th>retention</th>\n",
       "      <th>target</th>\n",
       "    </tr>\n",
       "  </thead>\n",
       "  <tbody>\n",
       "    <tr>\n",
       "      <th>0</th>\n",
       "      <td>1346.0</td>\n",
       "      <td>2022-04-01</td>\n",
       "      <td>2.0</td>\n",
       "      <td>41.0</td>\n",
       "      <td>4</td>\n",
       "      <td>3.0</td>\n",
       "      <td>1.0</td>\n",
       "      <td>75.000000</td>\n",
       "      <td>53.0</td>\n",
       "      <td>2.0</td>\n",
       "      <td>4.0</td>\n",
       "      <td>3.0</td>\n",
       "      <td>Low</td>\n",
       "      <td>0</td>\n",
       "    </tr>\n",
       "    <tr>\n",
       "      <th>1</th>\n",
       "      <td>2326.0</td>\n",
       "      <td>2023-10-19</td>\n",
       "      <td>4.0</td>\n",
       "      <td>33.0</td>\n",
       "      <td>4</td>\n",
       "      <td>1.0</td>\n",
       "      <td>3.0</td>\n",
       "      <td>25.000000</td>\n",
       "      <td>138.0</td>\n",
       "      <td>9.0</td>\n",
       "      <td>0.0</td>\n",
       "      <td>3.0</td>\n",
       "      <td>Low</td>\n",
       "      <td>0</td>\n",
       "    </tr>\n",
       "    <tr>\n",
       "      <th>2</th>\n",
       "      <td>932.0</td>\n",
       "      <td>2022-12-09</td>\n",
       "      <td>4.0</td>\n",
       "      <td>33.0</td>\n",
       "      <td>5</td>\n",
       "      <td>4.0</td>\n",
       "      <td>1.0</td>\n",
       "      <td>80.000000</td>\n",
       "      <td>42.0</td>\n",
       "      <td>2.0</td>\n",
       "      <td>15.0</td>\n",
       "      <td>2.0</td>\n",
       "      <td>Low</td>\n",
       "      <td>0</td>\n",
       "    </tr>\n",
       "    <tr>\n",
       "      <th>3</th>\n",
       "      <td>845.0</td>\n",
       "      <td>2022-12-05</td>\n",
       "      <td>5.0</td>\n",
       "      <td>50.0</td>\n",
       "      <td>10</td>\n",
       "      <td>1.0</td>\n",
       "      <td>9.0</td>\n",
       "      <td>10.000000</td>\n",
       "      <td>162.0</td>\n",
       "      <td>4.0</td>\n",
       "      <td>17.0</td>\n",
       "      <td>3.0</td>\n",
       "      <td>Low</td>\n",
       "      <td>0</td>\n",
       "    </tr>\n",
       "    <tr>\n",
       "      <th>4</th>\n",
       "      <td>710.0</td>\n",
       "      <td>2023-10-31</td>\n",
       "      <td>3.0</td>\n",
       "      <td>30.0</td>\n",
       "      <td>7</td>\n",
       "      <td>3.0</td>\n",
       "      <td>4.0</td>\n",
       "      <td>42.857143</td>\n",
       "      <td>111.0</td>\n",
       "      <td>11.0</td>\n",
       "      <td>20.0</td>\n",
       "      <td>2.0</td>\n",
       "      <td>Low</td>\n",
       "      <td>0</td>\n",
       "    </tr>\n",
       "  </tbody>\n",
       "</table>\n",
       "</div>"
      ],
      "text/plain": [
       "   Player ID Date Joined  Frequency of Login in a week  \\\n",
       "0     1346.0  2022-04-01                           2.0   \n",
       "1     2326.0  2023-10-19                           4.0   \n",
       "2      932.0  2022-12-09                           4.0   \n",
       "3      845.0  2022-12-05                           5.0   \n",
       "4      710.0  2023-10-31                           3.0   \n",
       "\n",
       "   Total Playtime (minutes) Matches Played in  week  Matches Won in a week  \\\n",
       "0                      41.0                       4                    3.0   \n",
       "1                      33.0                       4                    1.0   \n",
       "2                      33.0                       5                    4.0   \n",
       "3                      50.0                      10                    1.0   \n",
       "4                      30.0                       7                    3.0   \n",
       "\n",
       "   Matches Lost in a week  Win Rate (%)  Current Rank  No of Cards Owned  \\\n",
       "0                     1.0     75.000000          53.0                2.0   \n",
       "1                     3.0     25.000000         138.0                9.0   \n",
       "2                     1.0     80.000000          42.0                2.0   \n",
       "3                     9.0     10.000000         162.0                4.0   \n",
       "4                     4.0     42.857143         111.0               11.0   \n",
       "\n",
       "   Total Gold Coins Owned  inventory purchase in a week retention  target  \n",
       "0                     4.0                           3.0       Low       0  \n",
       "1                     0.0                           3.0       Low       0  \n",
       "2                    15.0                           2.0       Low       0  \n",
       "3                    17.0                           3.0       Low       0  \n",
       "4                    20.0                           2.0       Low       0  "
      ]
     },
     "execution_count": 49,
     "metadata": {},
     "output_type": "execute_result"
    }
   ],
   "source": [
    "df['target'] = df['retention'].map({'Low':0,'High':1})\n",
    "df.head()"
   ]
  },
  {
   "cell_type": "code",
   "execution_count": 50,
   "id": "4a5b1be8-cfc2-4204-b21a-6178f7e88642",
   "metadata": {},
   "outputs": [],
   "source": [
    "df_train, df_test = train_test_split(df,test_size = 0.25)"
   ]
  },
  {
   "cell_type": "code",
   "execution_count": 51,
   "id": "4bd4e770-ec61-43f2-93ad-ec49fbd205d4",
   "metadata": {},
   "outputs": [
    {
     "data": {
      "text/plain": [
       "(150, 14)"
      ]
     },
     "execution_count": 51,
     "metadata": {},
     "output_type": "execute_result"
    }
   ],
   "source": [
    "df_train.shape"
   ]
  },
  {
   "cell_type": "code",
   "execution_count": 52,
   "id": "ded85022-2566-4fbf-b784-78b433e8c7f7",
   "metadata": {},
   "outputs": [
    {
     "data": {
      "text/plain": [
       "(50, 14)"
      ]
     },
     "execution_count": 52,
     "metadata": {},
     "output_type": "execute_result"
    }
   ],
   "source": [
    "df_test.shape"
   ]
  },
  {
   "cell_type": "code",
   "execution_count": 53,
   "id": "c34ae8bf-e98f-42ca-8784-4535fa7d68dc",
   "metadata": {},
   "outputs": [
    {
     "data": {
      "text/html": [
       "<div>\n",
       "<style scoped>\n",
       "    .dataframe tbody tr th:only-of-type {\n",
       "        vertical-align: middle;\n",
       "    }\n",
       "\n",
       "    .dataframe tbody tr th {\n",
       "        vertical-align: top;\n",
       "    }\n",
       "\n",
       "    .dataframe thead th {\n",
       "        text-align: right;\n",
       "    }\n",
       "</style>\n",
       "<table border=\"1\" class=\"dataframe\">\n",
       "  <thead>\n",
       "    <tr style=\"text-align: right;\">\n",
       "      <th></th>\n",
       "      <th>Player ID</th>\n",
       "      <th>Date Joined</th>\n",
       "      <th>Frequency of Login in a week</th>\n",
       "      <th>Total Playtime (minutes)</th>\n",
       "      <th>Matches Played in  week</th>\n",
       "      <th>Matches Won in a week</th>\n",
       "      <th>Matches Lost in a week</th>\n",
       "      <th>Win Rate (%)</th>\n",
       "      <th>Current Rank</th>\n",
       "      <th>No of Cards Owned</th>\n",
       "      <th>Total Gold Coins Owned</th>\n",
       "      <th>inventory purchase in a week</th>\n",
       "      <th>retention</th>\n",
       "      <th>target</th>\n",
       "    </tr>\n",
       "  </thead>\n",
       "  <tbody>\n",
       "    <tr>\n",
       "      <th>157</th>\n",
       "      <td>1966.0</td>\n",
       "      <td>2022-10-02</td>\n",
       "      <td>5.0</td>\n",
       "      <td>27.0</td>\n",
       "      <td>24</td>\n",
       "      <td>0.0</td>\n",
       "      <td>24.0</td>\n",
       "      <td>0.000000</td>\n",
       "      <td>177.0</td>\n",
       "      <td>4.0</td>\n",
       "      <td>4.0</td>\n",
       "      <td>3.0</td>\n",
       "      <td>Low</td>\n",
       "      <td>0</td>\n",
       "    </tr>\n",
       "    <tr>\n",
       "      <th>86</th>\n",
       "      <td>997.0</td>\n",
       "      <td>2022-02-08</td>\n",
       "      <td>7.0</td>\n",
       "      <td>58.0</td>\n",
       "      <td>17</td>\n",
       "      <td>4.0</td>\n",
       "      <td>13.0</td>\n",
       "      <td>23.529412</td>\n",
       "      <td>143.0</td>\n",
       "      <td>5.0</td>\n",
       "      <td>2.0</td>\n",
       "      <td>5.0</td>\n",
       "      <td>High</td>\n",
       "      <td>1</td>\n",
       "    </tr>\n",
       "    <tr>\n",
       "      <th>95</th>\n",
       "      <td>1686.0</td>\n",
       "      <td>2022-05-22</td>\n",
       "      <td>4.0</td>\n",
       "      <td>43.0</td>\n",
       "      <td>11</td>\n",
       "      <td>0.0</td>\n",
       "      <td>11.0</td>\n",
       "      <td>0.000000</td>\n",
       "      <td>177.0</td>\n",
       "      <td>8.0</td>\n",
       "      <td>17.0</td>\n",
       "      <td>0.0</td>\n",
       "      <td>Low</td>\n",
       "      <td>0</td>\n",
       "    </tr>\n",
       "    <tr>\n",
       "      <th>189</th>\n",
       "      <td>2274.0</td>\n",
       "      <td>2022-11-16</td>\n",
       "      <td>1.0</td>\n",
       "      <td>23.0</td>\n",
       "      <td>6</td>\n",
       "      <td>0.0</td>\n",
       "      <td>6.0</td>\n",
       "      <td>0.000000</td>\n",
       "      <td>177.0</td>\n",
       "      <td>15.0</td>\n",
       "      <td>6.0</td>\n",
       "      <td>1.0</td>\n",
       "      <td>Low</td>\n",
       "      <td>0</td>\n",
       "    </tr>\n",
       "    <tr>\n",
       "      <th>104</th>\n",
       "      <td>2321.0</td>\n",
       "      <td>2022-12-08</td>\n",
       "      <td>3.0</td>\n",
       "      <td>30.0</td>\n",
       "      <td>22</td>\n",
       "      <td>16.0</td>\n",
       "      <td>6.0</td>\n",
       "      <td>72.727273</td>\n",
       "      <td>57.0</td>\n",
       "      <td>7.0</td>\n",
       "      <td>8.0</td>\n",
       "      <td>3.0</td>\n",
       "      <td>Low</td>\n",
       "      <td>0</td>\n",
       "    </tr>\n",
       "  </tbody>\n",
       "</table>\n",
       "</div>"
      ],
      "text/plain": [
       "     Player ID Date Joined  Frequency of Login in a week  \\\n",
       "157     1966.0  2022-10-02                           5.0   \n",
       "86       997.0  2022-02-08                           7.0   \n",
       "95      1686.0  2022-05-22                           4.0   \n",
       "189     2274.0  2022-11-16                           1.0   \n",
       "104     2321.0  2022-12-08                           3.0   \n",
       "\n",
       "     Total Playtime (minutes) Matches Played in  week  Matches Won in a week  \\\n",
       "157                      27.0                      24                    0.0   \n",
       "86                       58.0                      17                    4.0   \n",
       "95                       43.0                      11                    0.0   \n",
       "189                      23.0                       6                    0.0   \n",
       "104                      30.0                      22                   16.0   \n",
       "\n",
       "     Matches Lost in a week  Win Rate (%)  Current Rank  No of Cards Owned  \\\n",
       "157                    24.0      0.000000         177.0                4.0   \n",
       "86                     13.0     23.529412         143.0                5.0   \n",
       "95                     11.0      0.000000         177.0                8.0   \n",
       "189                     6.0      0.000000         177.0               15.0   \n",
       "104                     6.0     72.727273          57.0                7.0   \n",
       "\n",
       "     Total Gold Coins Owned  inventory purchase in a week retention  target  \n",
       "157                     4.0                           3.0       Low       0  \n",
       "86                      2.0                           5.0      High       1  \n",
       "95                     17.0                           0.0       Low       0  \n",
       "189                     6.0                           1.0       Low       0  \n",
       "104                     8.0                           3.0       Low       0  "
      ]
     },
     "execution_count": 53,
     "metadata": {},
     "output_type": "execute_result"
    }
   ],
   "source": [
    "df_train.head()"
   ]
  },
  {
   "cell_type": "code",
   "execution_count": 54,
   "id": "75af6db2-ae5f-4176-a27a-426ebab0a509",
   "metadata": {
    "scrolled": true
   },
   "outputs": [],
   "source": [
    "X_train = df_train.drop(columns = ['retention', 'target','Player ID','Date Joined']).values"
   ]
  },
  {
   "cell_type": "code",
   "execution_count": 55,
   "id": "7d167536-ed09-4d42-a372-eddbbfebbd1d",
   "metadata": {},
   "outputs": [
    {
     "data": {
      "text/plain": [
       "array([[5.0, 27.0, 24, ..., 4.0, 4.0, 3.0],\n",
       "       [7.0, 58.0, 17, ..., 5.0, 2.0, 5.0],\n",
       "       [4.0, 43.0, 11, ..., 8.0, 17.0, 0.0],\n",
       "       ...,\n",
       "       [3.0, 49.0, 15, ..., 0.0, 12.0, 4.0],\n",
       "       [1.0, 23.0, 4, ..., 0.0, 14.0, 1.0],\n",
       "       [2.0, 26.0, 22, ..., 5.0, 9.0, 3.0]], dtype=object)"
      ]
     },
     "execution_count": 55,
     "metadata": {},
     "output_type": "execute_result"
    }
   ],
   "source": [
    "X_train"
   ]
  },
  {
   "cell_type": "code",
   "execution_count": 56,
   "id": "8cd9761d-0dca-4247-95d5-7310809f953f",
   "metadata": {},
   "outputs": [],
   "source": [
    "y_train = df_train['target'].values"
   ]
  },
  {
   "cell_type": "code",
   "execution_count": 57,
   "id": "d80f65c6-1aa7-40a3-93a5-963de66ce4d2",
   "metadata": {},
   "outputs": [
    {
     "data": {
      "text/plain": [
       "array([0, 1, 0, 0, 0, 1, 1, 0, 0, 0, 0, 0, 0, 1, 1, 0, 0, 0, 0, 0, 0, 0,\n",
       "       0, 0, 0, 0, 0, 1, 0, 0, 1, 1, 0, 0, 1, 0, 1, 0, 1, 1, 0, 0, 0, 1,\n",
       "       0, 0, 0, 0, 0, 1, 0, 0, 0, 1, 1, 1, 0, 0, 0, 1, 0, 0, 0, 0, 1, 0,\n",
       "       0, 0, 1, 0, 0, 1, 0, 0, 0, 1, 1, 0, 0, 0, 1, 0, 0, 0, 0, 0, 1, 0,\n",
       "       0, 1, 0, 0, 0, 1, 0, 0, 0, 1, 0, 1, 0, 0, 1, 0, 1, 0, 1, 0, 0, 0,\n",
       "       0, 0, 0, 0, 0, 0, 0, 1, 0, 0, 0, 0, 1, 0, 1, 0, 0, 1, 0, 0, 0, 0,\n",
       "       0, 1, 0, 1, 0, 0, 0, 0, 0, 0, 0, 0, 0, 1, 0, 0, 0, 0], dtype=int64)"
      ]
     },
     "execution_count": 57,
     "metadata": {},
     "output_type": "execute_result"
    }
   ],
   "source": [
    "y_train"
   ]
  },
  {
   "cell_type": "code",
   "execution_count": 58,
   "id": "f90ec3fe-5a1f-4bdb-8a39-4630474dff52",
   "metadata": {},
   "outputs": [],
   "source": [
    "model = LogisticRegression()"
   ]
  },
  {
   "cell_type": "code",
   "execution_count": 59,
   "id": "86b03d50-7119-489a-a7a9-fec5555337e9",
   "metadata": {},
   "outputs": [
    {
     "name": "stderr",
     "output_type": "stream",
     "text": [
      "C:\\Users\\hp\\anaconda3\\anaconda\\envs\\newenv\\Lib\\site-packages\\sklearn\\linear_model\\_logistic.py:458: ConvergenceWarning: lbfgs failed to converge (status=1):\n",
      "STOP: TOTAL NO. of ITERATIONS REACHED LIMIT.\n",
      "\n",
      "Increase the number of iterations (max_iter) or scale the data as shown in:\n",
      "    https://scikit-learn.org/stable/modules/preprocessing.html\n",
      "Please also refer to the documentation for alternative solver options:\n",
      "    https://scikit-learn.org/stable/modules/linear_model.html#logistic-regression\n",
      "  n_iter_i = _check_optimize_result(\n"
     ]
    },
    {
     "data": {
      "text/html": [
       "<style>#sk-container-id-2 {color: black;background-color: white;}#sk-container-id-2 pre{padding: 0;}#sk-container-id-2 div.sk-toggleable {background-color: white;}#sk-container-id-2 label.sk-toggleable__label {cursor: pointer;display: block;width: 100%;margin-bottom: 0;padding: 0.3em;box-sizing: border-box;text-align: center;}#sk-container-id-2 label.sk-toggleable__label-arrow:before {content: \"▸\";float: left;margin-right: 0.25em;color: #696969;}#sk-container-id-2 label.sk-toggleable__label-arrow:hover:before {color: black;}#sk-container-id-2 div.sk-estimator:hover label.sk-toggleable__label-arrow:before {color: black;}#sk-container-id-2 div.sk-toggleable__content {max-height: 0;max-width: 0;overflow: hidden;text-align: left;background-color: #f0f8ff;}#sk-container-id-2 div.sk-toggleable__content pre {margin: 0.2em;color: black;border-radius: 0.25em;background-color: #f0f8ff;}#sk-container-id-2 input.sk-toggleable__control:checked~div.sk-toggleable__content {max-height: 200px;max-width: 100%;overflow: auto;}#sk-container-id-2 input.sk-toggleable__control:checked~label.sk-toggleable__label-arrow:before {content: \"▾\";}#sk-container-id-2 div.sk-estimator input.sk-toggleable__control:checked~label.sk-toggleable__label {background-color: #d4ebff;}#sk-container-id-2 div.sk-label input.sk-toggleable__control:checked~label.sk-toggleable__label {background-color: #d4ebff;}#sk-container-id-2 input.sk-hidden--visually {border: 0;clip: rect(1px 1px 1px 1px);clip: rect(1px, 1px, 1px, 1px);height: 1px;margin: -1px;overflow: hidden;padding: 0;position: absolute;width: 1px;}#sk-container-id-2 div.sk-estimator {font-family: monospace;background-color: #f0f8ff;border: 1px dotted black;border-radius: 0.25em;box-sizing: border-box;margin-bottom: 0.5em;}#sk-container-id-2 div.sk-estimator:hover {background-color: #d4ebff;}#sk-container-id-2 div.sk-parallel-item::after {content: \"\";width: 100%;border-bottom: 1px solid gray;flex-grow: 1;}#sk-container-id-2 div.sk-label:hover label.sk-toggleable__label {background-color: #d4ebff;}#sk-container-id-2 div.sk-serial::before {content: \"\";position: absolute;border-left: 1px solid gray;box-sizing: border-box;top: 0;bottom: 0;left: 50%;z-index: 0;}#sk-container-id-2 div.sk-serial {display: flex;flex-direction: column;align-items: center;background-color: white;padding-right: 0.2em;padding-left: 0.2em;position: relative;}#sk-container-id-2 div.sk-item {position: relative;z-index: 1;}#sk-container-id-2 div.sk-parallel {display: flex;align-items: stretch;justify-content: center;background-color: white;position: relative;}#sk-container-id-2 div.sk-item::before, #sk-container-id-2 div.sk-parallel-item::before {content: \"\";position: absolute;border-left: 1px solid gray;box-sizing: border-box;top: 0;bottom: 0;left: 50%;z-index: -1;}#sk-container-id-2 div.sk-parallel-item {display: flex;flex-direction: column;z-index: 1;position: relative;background-color: white;}#sk-container-id-2 div.sk-parallel-item:first-child::after {align-self: flex-end;width: 50%;}#sk-container-id-2 div.sk-parallel-item:last-child::after {align-self: flex-start;width: 50%;}#sk-container-id-2 div.sk-parallel-item:only-child::after {width: 0;}#sk-container-id-2 div.sk-dashed-wrapped {border: 1px dashed gray;margin: 0 0.4em 0.5em 0.4em;box-sizing: border-box;padding-bottom: 0.4em;background-color: white;}#sk-container-id-2 div.sk-label label {font-family: monospace;font-weight: bold;display: inline-block;line-height: 1.2em;}#sk-container-id-2 div.sk-label-container {text-align: center;}#sk-container-id-2 div.sk-container {/* jupyter's `normalize.less` sets `[hidden] { display: none; }` but bootstrap.min.css set `[hidden] { display: none !important; }` so we also need the `!important` here to be able to override the default hidden behavior on the sphinx rendered scikit-learn.org. See: https://github.com/scikit-learn/scikit-learn/issues/21755 */display: inline-block !important;position: relative;}#sk-container-id-2 div.sk-text-repr-fallback {display: none;}</style><div id=\"sk-container-id-2\" class=\"sk-top-container\"><div class=\"sk-text-repr-fallback\"><pre>LogisticRegression()</pre><b>In a Jupyter environment, please rerun this cell to show the HTML representation or trust the notebook. <br />On GitHub, the HTML representation is unable to render, please try loading this page with nbviewer.org.</b></div><div class=\"sk-container\" hidden><div class=\"sk-item\"><div class=\"sk-estimator sk-toggleable\"><input class=\"sk-toggleable__control sk-hidden--visually\" id=\"sk-estimator-id-2\" type=\"checkbox\" checked><label for=\"sk-estimator-id-2\" class=\"sk-toggleable__label sk-toggleable__label-arrow\">LogisticRegression</label><div class=\"sk-toggleable__content\"><pre>LogisticRegression()</pre></div></div></div></div></div>"
      ],
      "text/plain": [
       "LogisticRegression()"
      ]
     },
     "execution_count": 59,
     "metadata": {},
     "output_type": "execute_result"
    }
   ],
   "source": [
    "model.fit(X_train, y_train)"
   ]
  },
  {
   "cell_type": "code",
   "execution_count": 60,
   "id": "afec3557-70f0-4a58-8463-a0b4fff6d742",
   "metadata": {},
   "outputs": [],
   "source": [
    "X_test = df_test.drop(columns = ['retention', 'target','Player ID','Date Joined']).values"
   ]
  },
  {
   "cell_type": "code",
   "execution_count": 61,
   "id": "99c9aec8-93e5-457c-8529-5fde29d4feef",
   "metadata": {},
   "outputs": [],
   "source": [
    "y_test = df_test['target'].values"
   ]
  },
  {
   "cell_type": "code",
   "execution_count": 63,
   "id": "9b416ab1-9f41-499e-848d-314f9de414b8",
   "metadata": {},
   "outputs": [],
   "source": [
    "y_pred = model.predict(X_test)"
   ]
  },
  {
   "cell_type": "code",
   "execution_count": 66,
   "id": "38aaca7f-6d0f-406d-a4a1-48b9524eab85",
   "metadata": {},
   "outputs": [
    {
     "data": {
      "text/plain": [
       "array([0, 1, 1, 0, 0, 1, 0, 1, 1, 0, 0, 0, 1, 1, 0, 1, 0, 0, 0, 0, 1, 0,\n",
       "       0, 1, 1, 0, 0, 1, 1, 0, 0, 0, 1, 1, 0, 0, 1, 1, 0, 0, 1, 0, 0, 0,\n",
       "       0, 0, 1, 1, 1, 1], dtype=int64)"
      ]
     },
     "execution_count": 66,
     "metadata": {},
     "output_type": "execute_result"
    }
   ],
   "source": []
  }
 ],
 "metadata": {
  "kernelspec": {
   "display_name": "newenv",
   "language": "python",
   "name": "newenv"
  },
  "language_info": {
   "codemirror_mode": {
    "name": "ipython",
    "version": 3
   },
   "file_extension": ".py",
   "mimetype": "text/x-python",
   "name": "python",
   "nbconvert_exporter": "python",
   "pygments_lexer": "ipython3",
   "version": "3.11.4"
  }
 },
 "nbformat": 4,
 "nbformat_minor": 5
}
