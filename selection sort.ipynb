{
 "cells": [
  {
   "cell_type": "markdown",
   "metadata": {},
   "source": [
    "# Selection Sort Algorithm\n",
    "    Selection sort algorithm is to sort an array of elements.\n",
    "    It keeps searching for the smallest element in the array and placing it to the beginning of the search once it place it.\n",
    "    It does not worry about the element anymore.\n",
    "    Now for the rest of the element it performs the same steps.\n",
    "    (n-1) steps."
   ]
  },
  {
   "cell_type": "code",
   "execution_count": null,
   "metadata": {},
   "outputs": [],
   "source": [
    "list1=[56,]"
   ]
  },
  {
   "cell_type": "code",
   "execution_count": 1,
   "metadata": {},
   "outputs": [
    {
     "name": "stdout",
     "output_type": "stream",
     "text": [
      "unsorted list [56, 3, 2, 78, 6, 0, 0]\n",
      "sorted list [0, 3, 2, 78, 6, 56, 0]\n",
      "sorted list [0, 0, 2, 78, 6, 56, 3]\n",
      "sorted list [0, 0, 2, 78, 6, 56, 3]\n",
      "sorted list [0, 0, 2, 3, 6, 56, 78]\n",
      "sorted list [0, 0, 2, 3, 6, 56, 78]\n",
      "sorted list [0, 0, 2, 3, 6, 56, 78]\n"
     ]
    }
   ],
   "source": [
    "\n",
    "\n",
    "list1=[56,3,2,78,6,0,0]\n",
    "\n",
    " \n",
    "\n",
    "print(\"unsorted list\",list1)\n",
    "\n",
    "for i in range(len(list1)-1):\n",
    "\n",
    "    min_val=min(list1[i:]) # we need smallest number from the 0th index then we need smallest number from the first index then we need smallest number fropm 2nd index\n",
    "\n",
    "    min_ind=list1.index(min_val,i)  #for duplicate value sorting\n",
    "\n",
    "    list1[i],list1[min_ind]=list1[min_ind],list1[i]    \n",
    "\n",
    "    print(\"sorted list\" , list1)"
   ]
  }
 ],
 "metadata": {
  "kernelspec": {
   "display_name": "newenv",
   "language": "python",
   "name": "newenv"
  },
  "language_info": {
   "codemirror_mode": {
    "name": "ipython",
    "version": 3
   },
   "file_extension": ".py",
   "mimetype": "text/x-python",
   "name": "python",
   "nbconvert_exporter": "python",
   "pygments_lexer": "ipython3",
   "version": "3.11.4"
  }
 },
 "nbformat": 4,
 "nbformat_minor": 2
}
